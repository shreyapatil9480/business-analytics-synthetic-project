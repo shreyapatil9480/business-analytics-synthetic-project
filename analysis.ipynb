{
 "cells": [
  {
   "cell_type": "markdown",
   "id": "da9b014c",
   "metadata": {},
   "source": [
    "# Business Analytics Synthetic Project\n",
    "\n",
    "This project provides a synthetic dataset simulating business projects and their outcomes. The goal is to analyze project characteristics and predict project success. The repository contains a dataset (`business_analytics_dataset.csv`) and a Jupyter notebook for exploratory data analysis (EDA) and predictive modeling."
   ]
  },
  {
   "cell_type": "markdown",
   "id": "ab871513",
   "metadata": {},
   "source": [
    "## Dataset Overview\n",
    "\n",
    "The dataset includes 500 synthetic project entries with the following columns:\n",
    "\n",
    "- **Project_ID**: Unique identifier for each project.\n",
    "- **Start_Date**: Project start date.\n",
    "- **End_Date**: Project end date.\n",
    "- **Duration_Days**: Duration of the project in days.\n",
    "- **Team_Size**: Number of people assigned to the project.\n",
    "- **Budget_USD**: Budget allocated to the project (USD).\n",
    "- **Complexity**: Categorical feature indicating project complexity (`Low`, `Medium`, `High`).\n",
    "- **Client_Satisfaction**: Satisfaction score from 1 to 10.\n",
    "- **Project_Success**: Target variable indicating whether the project was successful (1) or not (0)."
   ]
  },
  {
   "cell_type": "code",
   "execution_count": null,
   "id": "185a4b5d",
   "metadata": {},
   "outputs": [],
   "source": [
    "import pandas as pd\n",
    "import numpy as np\n",
    "import matplotlib.pyplot as plt\n",
    "import seaborn as sns\n",
    "from sklearn.model_selection import train_test_split\n",
    "from sklearn.preprocessing import OneHotEncoder\n",
    "from sklearn.compose import ColumnTransformer\n",
    "from sklearn.pipeline import Pipeline\n",
    "from sklearn.metrics import accuracy_score, classification_report, confusion_matrix\n",
    "from sklearn.linear_model import LogisticRegression\n",
    "from sklearn.ensemble import RandomForestClassifier\n",
    "\n",
    "# Load dataset\n",
    "df = pd.read_csv('business_analytics_dataset.csv', parse_dates=['Start_Date', 'End_Date'])\n",
    "\n",
    "# Display first few rows\n",
    "df.head()"
   ]
  },
  {
   "cell_type": "markdown",
   "id": "436b4ff2",
   "metadata": {},
   "source": [
    "## Exploratory Data Analysis\n",
    "\n",
    "We start by exploring the dataset to understand distributions and relationships between variables."
   ]
  },
  {
   "cell_type": "code",
   "execution_count": null,
   "id": "f7a5bb74",
   "metadata": {},
   "outputs": [],
   "source": [
    "# Basic descriptive statistics\n",
    "print(df.describe(include='all'))"
   ]
  },
  {
   "cell_type": "code",
   "execution_count": null,
   "id": "14751d9a",
   "metadata": {},
   "outputs": [],
   "source": [
    "# Histogram of project durations\n",
    "plt.figure(figsize=(6,4))\n",
    "sns.histplot(df['Duration_Days'], bins=20, kde=False)\n",
    "plt.title('Distribution of Project Durations')\n",
    "plt.xlabel('Duration (days)')\n",
    "plt.ylabel('Frequency')\n",
    "plt.show()"
   ]
  },
  {
   "cell_type": "code",
   "execution_count": null,
   "id": "16972407",
   "metadata": {},
   "outputs": [],
   "source": [
    "# Relationship between complexity and project success\n",
    "plt.figure(figsize=(6,4))\n",
    "sns.countplot(x='Complexity', hue='Project_Success', data=df)\n",
    "plt.title('Complexity vs Project Success')\n",
    "plt.xlabel('Complexity')\n",
    "plt.ylabel('Count')\n",
    "plt.show()"
   ]
  },
  {
   "cell_type": "code",
   "execution_count": null,
   "id": "37120a7f",
   "metadata": {},
   "outputs": [],
   "source": [
    "# Correlation heatmap for numerical features\n",
    "corr = df[['Duration_Days','Team_Size','Budget_USD','Client_Satisfaction','Project_Success']].corr()\n",
    "plt.figure(figsize=(6,4))\n",
    "sns.heatmap(corr, annot=True, cmap='coolwarm')\n",
    "plt.title('Correlation Heatmap')\n",
    "plt.show()"
   ]
  },
  {
   "cell_type": "markdown",
   "id": "e8759e86",
   "metadata": {},
   "source": [
    "## Predictive Modeling\n",
    "\n",
    "Next, we build predictive models to classify project success based on project features."
   ]
  },
  {
   "cell_type": "code",
   "execution_count": null,
   "id": "fde1b5e6",
   "metadata": {},
   "outputs": [],
   "source": [
    "# Prepare features and target\n",
    "X = df[['Duration_Days','Team_Size','Budget_USD','Complexity','Client_Satisfaction']]\n",
    "y = df['Project_Success']\n",
    "\n",
    "# One-hot encode categorical features\n",
    "categorical_features = ['Complexity']\n",
    "numerical_features = ['Duration_Days','Team_Size','Budget_USD','Client_Satisfaction']\n",
    "\n",
    "preprocessor = ColumnTransformer(\n",
    "    transformers=[\n",
    "        ('cat', OneHotEncoder(drop='first'), categorical_features),\n",
    "        ('num', 'passthrough', numerical_features)\n",
    "    ]\n",
    ")\n",
    "\n",
    "# Train-test split\n",
    "X_train, X_test, y_train, y_test = train_test_split(X, y, test_size=0.2, random_state=42, stratify=y)\n",
    "\n",
    "# Define models\n",
    "log_reg_pipeline = Pipeline(steps=[('preprocessor', preprocessor), ('classifier', LogisticRegression(max_iter=1000))])\n",
    "rf_pipeline = Pipeline(steps=[('preprocessor', preprocessor), ('classifier', RandomForestClassifier(n_estimators=100, random_state=42))])\n",
    "\n",
    "# Fit models\n",
    "log_reg_pipeline.fit(X_train, y_train)\n",
    "rf_pipeline.fit(X_train, y_train)\n",
    "\n",
    "# Evaluate models\n",
    "for name, model in [('Logistic Regression', log_reg_pipeline), ('Random Forest', rf_pipeline)]:\n",
    "    y_pred = model.predict(X_test)\n",
    "    print(f\"\n",
    "{name} Accuracy: {accuracy_score(y_test, y_pred):.2f}\")\n",
    "    print(classification_report(y_test, y_pred))\n",
    "    print('Confusion Matrix:\n",
    "', confusion_matrix(y_test, y_pred))"
   ]
  },
  {
   "cell_type": "markdown",
   "id": "96b703ca",
   "metadata": {},
   "source": [
    "## Conclusion\n",
    "\n",
    "In this notebook, we analyzed a synthetic dataset of business projects. We conducted exploratory data analysis to understand the distributions of project features and their relationships to project success. We then built logistic regression and random forest models to predict project success, demonstrating a basic workflow for modeling classification problems in business analytics. You can extend this analysis with more sophisticated models, cross-validation, and hyperparameter tuning."
   ]
  }
 ],
 "metadata": {},
 "nbformat": 4,
 "nbformat_minor": 5
}
